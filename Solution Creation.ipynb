{
 "cells": [
  {
   "cell_type": "code",
   "execution_count": 1,
   "id": "b9d2eaa5",
   "metadata": {},
   "outputs": [
    {
     "name": "stderr",
     "output_type": "stream",
     "text": [
      "c:\\Users\\Asush\\Notebooks\\Service Ticket Call Classification\\ve\\Lib\\site-packages\\sentence_transformers\\cross_encoder\\CrossEncoder.py:11: TqdmWarning: IProgress not found. Please update jupyter and ipywidgets. See https://ipywidgets.readthedocs.io/en/stable/user_install.html\n",
      "  from tqdm.autonotebook import tqdm, trange\n"
     ]
    }
   ],
   "source": [
    "import pandas as pd\n",
    "import numpy as np\n",
    "from sklearn.feature_extraction.text import TfidfVectorizer\n",
    "import pickle\n",
    "from sentence_transformers import SentenceTransformer"
   ]
  },
  {
   "cell_type": "code",
   "execution_count": 2,
   "id": "9cc05a69",
   "metadata": {},
   "outputs": [
    {
     "data": {
      "text/html": [
       "<div>\n",
       "<style scoped>\n",
       "    .dataframe tbody tr th:only-of-type {\n",
       "        vertical-align: middle;\n",
       "    }\n",
       "\n",
       "    .dataframe tbody tr th {\n",
       "        vertical-align: top;\n",
       "    }\n",
       "\n",
       "    .dataframe thead th {\n",
       "        text-align: right;\n",
       "    }\n",
       "</style>\n",
       "<table border=\"1\" class=\"dataframe\">\n",
       "  <thead>\n",
       "    <tr style=\"text-align: right;\">\n",
       "      <th></th>\n",
       "      <th>Product</th>\n",
       "      <th>final_problem</th>\n",
       "      <th>Solution</th>\n",
       "    </tr>\n",
       "  </thead>\n",
       "  <tbody>\n",
       "    <tr>\n",
       "      <th>0</th>\n",
       "      <td>Credit card</td>\n",
       "      <td>i am dissatisfied with the current outcome of ...</td>\n",
       "      <td>We apologize for the inconvenience you've expe...</td>\n",
       "    </tr>\n",
       "    <tr>\n",
       "      <th>1</th>\n",
       "      <td>\"Credit reporting</td>\n",
       "      <td>incorrect information on your report</td>\n",
       "      <td>We understand your concern about incorrect inf...</td>\n",
       "    </tr>\n",
       "    <tr>\n",
       "      <th>2</th>\n",
       "      <td>Bank account or service</td>\n",
       "      <td>on my bank account balance with pnc bank was ...</td>\n",
       "      <td>We regret the inconvenience caused by the over...</td>\n",
       "    </tr>\n",
       "    <tr>\n",
       "      <th>3</th>\n",
       "      <td>Debt collection</td>\n",
       "      <td>i received a collection notice and called rig...</td>\n",
       "      <td>We understand your concern about the collectio...</td>\n",
       "    </tr>\n",
       "    <tr>\n",
       "      <th>4</th>\n",
       "      <td>Credit card or prepaid card</td>\n",
       "      <td>i had accounts with chase they closed my acco...</td>\n",
       "      <td>We apologize for the inconvenience caused by t...</td>\n",
       "    </tr>\n",
       "  </tbody>\n",
       "</table>\n",
       "</div>"
      ],
      "text/plain": [
       "                       Product  \\\n",
       "0                  Credit card   \n",
       "1            \"Credit reporting   \n",
       "2      Bank account or service   \n",
       "3              Debt collection   \n",
       "4  Credit card or prepaid card   \n",
       "\n",
       "                                       final_problem  \\\n",
       "0  i am dissatisfied with the current outcome of ...   \n",
       "1               incorrect information on your report   \n",
       "2   on my bank account balance with pnc bank was ...   \n",
       "3   i received a collection notice and called rig...   \n",
       "4   i had accounts with chase they closed my acco...   \n",
       "\n",
       "                                            Solution  \n",
       "0  We apologize for the inconvenience you've expe...  \n",
       "1  We understand your concern about incorrect inf...  \n",
       "2  We regret the inconvenience caused by the over...  \n",
       "3  We understand your concern about the collectio...  \n",
       "4  We apologize for the inconvenience caused by t...  "
      ]
     },
     "execution_count": 2,
     "metadata": {},
     "output_type": "execute_result"
    }
   ],
   "source": [
    "df = pd.read_excel('output.xlsx')\n",
    "df.head()"
   ]
  },
  {
   "cell_type": "code",
   "execution_count": 3,
   "id": "57e7674c",
   "metadata": {
    "scrolled": true
   },
   "outputs": [
    {
     "data": {
      "text/plain": [
       "(30, 3)"
      ]
     },
     "execution_count": 3,
     "metadata": {},
     "output_type": "execute_result"
    }
   ],
   "source": [
    "df_cleaned=df\n",
    "pd.set_option('display.max_colwidth', None)\n",
    "df_cleaned=df.iloc[0:30,:]\n",
    "df_cleaned.shape"
   ]
  },
  {
   "cell_type": "code",
   "execution_count": 4,
   "id": "266fdea4",
   "metadata": {},
   "outputs": [
    {
     "name": "stderr",
     "output_type": "stream",
     "text": [
      "C:\\Users\\Asush\\AppData\\Local\\Temp\\ipykernel_17800\\2719090875.py:1: SettingWithCopyWarning: \n",
      "A value is trying to be set on a copy of a slice from a DataFrame.\n",
      "Try using .loc[row_indexer,col_indexer] = value instead\n",
      "\n",
      "See the caveats in the documentation: https://pandas.pydata.org/pandas-docs/stable/user_guide/indexing.html#returning-a-view-versus-a-copy\n",
      "  df_cleaned['Product'] = df_cleaned['Product'].replace('\"Credit reporting', 'Credit reporting')\n",
      "C:\\Users\\Asush\\AppData\\Local\\Temp\\ipykernel_17800\\2719090875.py:2: SettingWithCopyWarning: \n",
      "A value is trying to be set on a copy of a slice from a DataFrame.\n",
      "Try using .loc[row_indexer,col_indexer] = value instead\n",
      "\n",
      "See the caveats in the documentation: https://pandas.pydata.org/pandas-docs/stable/user_guide/indexing.html#returning-a-view-versus-a-copy\n",
      "  df_cleaned['Product'] = df_cleaned['Product'].replace('Credit card', 'Credit card or prepaid card')\n",
      "C:\\Users\\Asush\\AppData\\Local\\Temp\\ipykernel_17800\\2719090875.py:3: SettingWithCopyWarning: \n",
      "A value is trying to be set on a copy of a slice from a DataFrame.\n",
      "Try using .loc[row_indexer,col_indexer] = value instead\n",
      "\n",
      "See the caveats in the documentation: https://pandas.pydata.org/pandas-docs/stable/user_guide/indexing.html#returning-a-view-versus-a-copy\n",
      "  df_cleaned['Product'] = df_cleaned['Product'].replace('Prepaid card', 'Credit card or prepaid card')\n",
      "C:\\Users\\Asush\\AppData\\Local\\Temp\\ipykernel_17800\\2719090875.py:4: SettingWithCopyWarning: \n",
      "A value is trying to be set on a copy of a slice from a DataFrame.\n",
      "Try using .loc[row_indexer,col_indexer] = value instead\n",
      "\n",
      "See the caveats in the documentation: https://pandas.pydata.org/pandas-docs/stable/user_guide/indexing.html#returning-a-view-versus-a-copy\n",
      "  df_cleaned['Product'] = df_cleaned['Product'].replace('Consumer Loan', 'Bank account or service')\n",
      "C:\\Users\\Asush\\AppData\\Local\\Temp\\ipykernel_17800\\2719090875.py:5: SettingWithCopyWarning: \n",
      "A value is trying to be set on a copy of a slice from a DataFrame.\n",
      "Try using .loc[row_indexer,col_indexer] = value instead\n",
      "\n",
      "See the caveats in the documentation: https://pandas.pydata.org/pandas-docs/stable/user_guide/indexing.html#returning-a-view-versus-a-copy\n",
      "  df_cleaned['Product'] = df_cleaned['Product'].replace('Student loan', 'Loan and debt')\n",
      "C:\\Users\\Asush\\AppData\\Local\\Temp\\ipykernel_17800\\2719090875.py:6: SettingWithCopyWarning: \n",
      "A value is trying to be set on a copy of a slice from a DataFrame.\n",
      "Try using .loc[row_indexer,col_indexer] = value instead\n",
      "\n",
      "See the caveats in the documentation: https://pandas.pydata.org/pandas-docs/stable/user_guide/indexing.html#returning-a-view-versus-a-copy\n",
      "  df_cleaned['Product'] = df_cleaned['Product'].replace('Payday loan', 'Loan and debt')\n",
      "C:\\Users\\Asush\\AppData\\Local\\Temp\\ipykernel_17800\\2719090875.py:7: SettingWithCopyWarning: \n",
      "A value is trying to be set on a copy of a slice from a DataFrame.\n",
      "Try using .loc[row_indexer,col_indexer] = value instead\n",
      "\n",
      "See the caveats in the documentation: https://pandas.pydata.org/pandas-docs/stable/user_guide/indexing.html#returning-a-view-versus-a-copy\n",
      "  df_cleaned['Product'] = df_cleaned['Product'].replace('\"Payday loan', 'Loan and debt')\n",
      "C:\\Users\\Asush\\AppData\\Local\\Temp\\ipykernel_17800\\2719090875.py:8: SettingWithCopyWarning: \n",
      "A value is trying to be set on a copy of a slice from a DataFrame.\n",
      "Try using .loc[row_indexer,col_indexer] = value instead\n",
      "\n",
      "See the caveats in the documentation: https://pandas.pydata.org/pandas-docs/stable/user_guide/indexing.html#returning-a-view-versus-a-copy\n",
      "  df_cleaned['Product'] = df_cleaned['Product'].replace('Vehicle loan or lease', 'Loan and debt')\n",
      "C:\\Users\\Asush\\AppData\\Local\\Temp\\ipykernel_17800\\2719090875.py:9: SettingWithCopyWarning: \n",
      "A value is trying to be set on a copy of a slice from a DataFrame.\n",
      "Try using .loc[row_indexer,col_indexer] = value instead\n",
      "\n",
      "See the caveats in the documentation: https://pandas.pydata.org/pandas-docs/stable/user_guide/indexing.html#returning-a-view-versus-a-copy\n",
      "  df_cleaned['Product'] = df_cleaned['Product'].replace('Mortgage', 'Loan and debt')\n",
      "C:\\Users\\Asush\\AppData\\Local\\Temp\\ipykernel_17800\\2719090875.py:10: SettingWithCopyWarning: \n",
      "A value is trying to be set on a copy of a slice from a DataFrame.\n",
      "Try using .loc[row_indexer,col_indexer] = value instead\n",
      "\n",
      "See the caveats in the documentation: https://pandas.pydata.org/pandas-docs/stable/user_guide/indexing.html#returning-a-view-versus-a-copy\n",
      "  df_cleaned['Product'] = df_cleaned['Product'].replace('Debt collection', 'Loan and debt')\n",
      "C:\\Users\\Asush\\AppData\\Local\\Temp\\ipykernel_17800\\2719090875.py:11: SettingWithCopyWarning: \n",
      "A value is trying to be set on a copy of a slice from a DataFrame.\n",
      "Try using .loc[row_indexer,col_indexer] = value instead\n",
      "\n",
      "See the caveats in the documentation: https://pandas.pydata.org/pandas-docs/stable/user_guide/indexing.html#returning-a-view-versus-a-copy\n",
      "  df_cleaned['Product'] = df_cleaned['Product'].replace('\"Money transfer', 'Money transfers')\n",
      "C:\\Users\\Asush\\AppData\\Local\\Temp\\ipykernel_17800\\2719090875.py:12: SettingWithCopyWarning: \n",
      "A value is trying to be set on a copy of a slice from a DataFrame.\n",
      "Try using .loc[row_indexer,col_indexer] = value instead\n",
      "\n",
      "See the caveats in the documentation: https://pandas.pydata.org/pandas-docs/stable/user_guide/indexing.html#returning-a-view-versus-a-copy\n",
      "  df_cleaned['Product'] = df_cleaned['Product'].replace('Checking or savings account', 'Bank account or service')\n",
      "C:\\Users\\Asush\\AppData\\Local\\Temp\\ipykernel_17800\\2719090875.py:13: SettingWithCopyWarning: \n",
      "A value is trying to be set on a copy of a slice from a DataFrame.\n",
      "Try using .loc[row_indexer,col_indexer] = value instead\n",
      "\n",
      "See the caveats in the documentation: https://pandas.pydata.org/pandas-docs/stable/user_guide/indexing.html#returning-a-view-versus-a-copy\n",
      "  df_cleaned['Product'] = df_cleaned['Product'].replace('Virtual currency', 'Other financial service')\n"
     ]
    },
    {
     "data": {
      "text/plain": [
       "array(['Credit card or prepaid card', 'Credit reporting',\n",
       "       'Bank account or service', 'Loan and debt'], dtype=object)"
      ]
     },
     "execution_count": 4,
     "metadata": {},
     "output_type": "execute_result"
    }
   ],
   "source": [
    "df_cleaned['Product'] = df_cleaned['Product'].replace('\"Credit reporting', 'Credit reporting')\n",
    "df_cleaned['Product'] = df_cleaned['Product'].replace('Credit card', 'Credit card or prepaid card')\n",
    "df_cleaned['Product'] = df_cleaned['Product'].replace('Prepaid card', 'Credit card or prepaid card')\n",
    "df_cleaned['Product'] = df_cleaned['Product'].replace('Consumer Loan', 'Bank account or service')\n",
    "df_cleaned['Product'] = df_cleaned['Product'].replace('Student loan', 'Loan and debt')\n",
    "df_cleaned['Product'] = df_cleaned['Product'].replace('Payday loan', 'Loan and debt')\n",
    "df_cleaned['Product'] = df_cleaned['Product'].replace('\"Payday loan', 'Loan and debt')\n",
    "df_cleaned['Product'] = df_cleaned['Product'].replace('Vehicle loan or lease', 'Loan and debt')\n",
    "df_cleaned['Product'] = df_cleaned['Product'].replace('Mortgage', 'Loan and debt')\n",
    "df_cleaned['Product'] = df_cleaned['Product'].replace('Debt collection', 'Loan and debt')\n",
    "df_cleaned['Product'] = df_cleaned['Product'].replace('\"Money transfer', 'Money transfers')\n",
    "df_cleaned['Product'] = df_cleaned['Product'].replace('Checking or savings account', 'Bank account or service')\n",
    "df_cleaned['Product'] = df_cleaned['Product'].replace('Virtual currency', 'Other financial service')\n",
    "df_cleaned['Product'].unique()"
   ]
  },
  {
   "cell_type": "markdown",
   "id": "af125bd3",
   "metadata": {},
   "source": [
    "Finding type of product for the input value first\n",
    "{0: 'Bank account or service', 1: 'Credit card or prepaid card', 2: 'Credit reporting', 3: 'Loan and debt', 4: 'Money transfers', 5: 'Other financial service'}\n",
    "\n"
   ]
  },
  {
   "cell_type": "code",
   "execution_count": 5,
   "id": "5f6d48aa",
   "metadata": {},
   "outputs": [],
   "source": [
    "vectorizer_filename = 'tfidf_vectorizer.pkl'\n",
    "with open(vectorizer_filename, 'rb') as vectorizer_file:\n",
    "    loaded_vectorizer = pickle.load(vectorizer_file)"
   ]
  },
  {
   "cell_type": "code",
   "execution_count": 6,
   "id": "1da1930e",
   "metadata": {},
   "outputs": [],
   "source": [
    "input_data = [\"I received a past-due notice for my car loan and immediately contacted the lender, thinking I had simply missed a payment due to our numerous household expenses. During the call, the representative informed me of additional overdue payments dating back several months. I promptly paid the recent notice but explained that I needed to review my records for the older ones. One of these overdue payments was linked to a loan my spouse had taken out, which could not be discussed with me due to privacy regulations. I am now filing a separate complaint to address this issue.\"]\n",
    "\n",
    "# Vectorize the input data\n",
    "X = loaded_vectorizer.transform(input_data) \n"
   ]
  },
  {
   "cell_type": "code",
   "execution_count": 7,
   "id": "e2aecc23",
   "metadata": {},
   "outputs": [
    {
     "name": "stdout",
     "output_type": "stream",
     "text": [
      "Model loaded successfully\n"
     ]
    }
   ],
   "source": [
    "import pickle\n",
    "\n",
    "model_filename = 'lr_tfidf_model.pkl'\n",
    "\n",
    "with open(model_filename, 'rb') as file:\n",
    "    loaded_model = pickle.load(file)\n",
    "\n",
    "print(\"Model loaded successfully\")"
   ]
  },
  {
   "cell_type": "code",
   "execution_count": 8,
   "id": "9e7504dc",
   "metadata": {},
   "outputs": [
    {
     "name": "stdout",
     "output_type": "stream",
     "text": [
      "Loan and debt\n"
     ]
    }
   ],
   "source": [
    "category_mapping = {\n",
    "    0: 'Bank account or service',\n",
    "    1: 'Credit card or prepaid card',\n",
    "    2: 'Credit reporting',\n",
    "    3: 'Loan and debt',\n",
    "    4: 'Money transfers',\n",
    "    5: 'Other financial service'\n",
    "}\n",
    "i=loaded_model.predict(X)\n",
    "category=[category_mapping[label] for label in i][0]\n",
    "print(category)"
   ]
  },
  {
   "cell_type": "markdown",
   "id": "4eb8f835",
   "metadata": {},
   "source": [
    "getting all elements of selected category and then using embedding on them"
   ]
  },
  {
   "cell_type": "code",
   "execution_count": 14,
   "id": "38facf00",
   "metadata": {},
   "outputs": [
    {
     "name": "stdout",
     "output_type": "stream",
     "text": [
      "3                                                                                                                                                         i received a collection notice and called right away i figured i had over looked it as we have many medical bills while on the phone i was told there were additional much older than the notice i called about i paid the one notice and said i needed to look at the date for the other one one of those were for my adult son and could not be discussed with me a separate complaint is being filed \n",
      "5                                                                                                                                                                                                                                                                                                                                                                                                                                                                                                                                             on or about through \n",
      "6                                                                                                                                                                                                                                                                                                                                                                                                                                                                                                                                                national recovery\n",
      "16                                                                                                                                                                                                                                                                                                                                                                                   capital one bank has posted negative remarks of payment lateness on my credit report without providing me with any options to resolve this matter to the best of my interest \n",
      "17                                                                                                                                            ditech performed an inaccurate escrow analysis on my home and has increased my mortgage amount over the past two year s county refunded ditech that was the amount of the over payment and the company has still not d isbursed my funds they also are not processing my mortgage payments because my payment amount is not the same as their overestimated mortgage amount that they have just increased on my end \n",
      "19                                                                                                                                                                                                                                                                                                                                                                                                                                                                getting called by after a google search determines this is a well known debt collection company \n",
      "22                                                                                                                                                                                                                                                                                                                                                                                                                                                                                                               company failed at refinancing causing great harm \n",
      "23                                                                                                                                                                                                                                                                                                                                                                                                      i made a payment with aes in early i asked that a scheduled payment be cancelled the customer service representative agreed the payment was not cancelled \n",
      "25                                                                                                                                                                                                                                                                                                                                                                                          i have been advised by the office of the comptroller of the currency that they sent my complaint to you case bank of america i m checking to make sure you received it\n",
      "27                                                                                                                                                                                                                                                                                                                                                                     i am a victim of identity theft company took me to court without notifying me as the sent everything to wrong address and received default judgements and are attempting to garnish my pay \n",
      "28                                                                                                                                                                                                                                                                                                                                                                                                                                                              as sustituted trustee scheduled a private trustee s sale together with select portfolio servicing \n",
      "29    american education services refuses to allow me to automatically pay my bill online due to three failed ach drafts from where i switched bank accounts and did not have the funds there is no one they will allow me to talk to in the financial management department they refuse to send me to someone in that department or email them on my behalf i just want to be able to pay my bill online and automatically what other loan services refuses to take payments forever automatically becuase a client had a issue with ach payments once years ago \n",
      "Name: final_problem, dtype: object\n",
      "3                                                                                                                                                                                                                                                                         We understand your concern about the collection notice you received. It's essential to verify the dates and details of the debts mentioned. For any debts that you are unsure of or that belong to another person, we recommend contacting the collection agency directly. They can provide specific information and guidance on how to proceed with resolving each notice. If you have any further questions or need assistance, please feel free to reach out to us.\n",
      "5                                                                                                                                                                                                                                                                                                                                                                                                                                                                                                                                                                                                                                                                                                                                            NaN\n",
      "6                                                                                                                                                                                                                                                                                                                                                                                                                                                                                                                                                                                                                                                                                                                                            NaN\n",
      "16                                                                                                                                                                                                                                                                                                      We understand your concern about the negative remarks posted by Capital One Bank on your credit report. To address this, we recommend contacting Capital One directly to discuss the issue and explore possible resolutions. Additionally, you can dispute the negative remarks with the credit reporting agency by providing any supporting evidence. If you need further assistance, please feel free to reach out to us for guidance.\n",
      "17                                                                                                                                                                                                                                                                                                        We apologize for the issues you've experienced with Ditech's escrow analysis and mortgage payments. To resolve this, we recommend contacting Ditech directly to address the inaccuracies and request the disbursement of your refunded funds. Providing detailed documentation of the overpayment and county refund can help expedite the resolution. If you need further assistance or guidance, please feel free to reach out to us.\n",
      "19                                                                                                                                                                                                             We understand your concern about receiving calls from a well-known debt collection company. To address this, we recommend verifying the legitimacy of the debt by requesting written validation from the collection company. Additionally, you can review your credit report to check for any outstanding debts. If you believe the debt is not yours or there are discrepancies, you can dispute it with the collection company and the credit reporting agency. If you need further assistance, please feel free to contact us.\n",
      "22                                                                                                                                                                                                                                                                                                                                                            We apologize for the issues you've faced with the refinancing process. To address this, we recommend gathering all relevant documentation and contacting the company directly to discuss the specific issues and seek a resolution. Providing detailed information can help expedite the process. If you need further assistance or guidance, please feel free to reach out to us.\n",
      "23                                                                                                                                                                                                                                                                                                    We apologize for the inconvenience caused by the failure to cancel your scheduled payment with AES. To resolve this, we recommend contacting AES customer service again, providing details of your previous request and the agreement from the representative. Request written confirmation of any future cancellations to ensure they are processed correctly. If you need further assistance, please do not hesitate to reach out to us.\n",
      "25                                                                                                                                                                                                                         We apologize for any inconvenience you've experienced regarding your complaint sent to the Office of the Comptroller of the Currency about Bank of America. To ensure that your complaint is received and addressed, we recommend contacting Bank of America directly to confirm receipt and inquire about the status of your complaint. They should be able to provide you with the necessary information and assistance. If you have any further questions or need assistance, please feel free to reach out to us.\n",
      "27    We're sorry to hear about your situation with identity theft and the legal actions taken against you without notification. To address this urgent matter, we recommend taking immediate steps to rectify the situation:\\nContact the company or their legal representative handling the case to explain the situation and provide evidence of identity theft.\\nNotify the court where the default judgments were issued about the identity theft and request a stay or dismissal of the judgments.\\nContact credit reporting agencies to place a fraud alert on your credit report and dispute any fraudulent information.\\nIf you need assistance navigating this process or have further questions, please reach out to us for guidance.\n",
      "28                                                                                                                                                                                                                                                            We understand your concern regarding the trustee's sale scheduled by Select Portfolio Servicing. To address this matter, we recommend contacting Select Portfolio Servicing directly to discuss your options and understand the details of the trustee's sale. It's important to gather all relevant documentation and seek legal advice if needed to navigate this process effectively. If you have any questions or need further assistance, please feel free to reach out to us\n",
      "29                                                                                                                                                                                                                                                                                                                                                                                                                                                                                                                                                                                                                                                                                                                                           NaN\n",
      "Name: Solution, dtype: object\n"
     ]
    }
   ],
   "source": [
    "\n",
    "df_filtered = df_cleaned[df_cleaned['Product'] == category]\n",
    "df_filtered.head()\n",
    "problems_of_same_category=df_filtered['final_problem']\n",
    "soultion_for_similar_problems=df_filtered['Solution']\n",
    "\n",
    "print(problems_of_same_category)\n",
    "print(soultion_for_similar_problems)"
   ]
  },
  {
   "cell_type": "code",
   "execution_count": 15,
   "id": "89318e00",
   "metadata": {},
   "outputs": [
    {
     "name": "stdout",
     "output_type": "stream",
     "text": [
      "Top 3 passages based on similarity scores:\n",
      "{' i received a collection notice and called right away i figured i had over looked it as we have many medical bills while on the phone i was told there were additional much older than the notice i called about i paid the one notice and said i needed to look at the date for the other one one of those were for my adult son and could not be discussed with me a separate complaint is being filed ': \"We understand your concern about the collection notice you received. It's essential to verify the dates and details of the debts mentioned. For any debts that you are unsure of or that belong to another person, we recommend contacting the collection agency directly. They can provide specific information and guidance on how to proceed with resolving each notice. If you have any further questions or need assistance, please feel free to reach out to us.\", 'i am a victim of identity theft company took me to court without notifying me as the sent everything to wrong address and received default judgements and are attempting to garnish my pay ': \"We're sorry to hear about your situation with identity theft and the legal actions taken against you without notification. To address this urgent matter, we recommend taking immediate steps to rectify the situation:\\nContact the company or their legal representative handling the case to explain the situation and provide evidence of identity theft.\\nNotify the court where the default judgments were issued about the identity theft and request a stay or dismissal of the judgments.\\nContact credit reporting agencies to place a fraud alert on your credit report and dispute any fraudulent information.\\nIf you need assistance navigating this process or have further questions, please reach out to us for guidance.\", 'capital one bank has posted negative remarks of payment lateness on my credit report without providing me with any options to resolve this matter to the best of my interest ': 'We understand your concern about the negative remarks posted by Capital One Bank on your credit report. To address this, we recommend contacting Capital One directly to discuss the issue and explore possible resolutions. Additionally, you can dispute the negative remarks with the credit reporting agency by providing any supporting evidence. If you need further assistance, please feel free to reach out to us for guidance.'}\n",
      "[0.6482114  0.12436538 0.07404864 0.4659325  0.3827617  0.3752734\n",
      " 0.39138252 0.33216494 0.35353413 0.4982865  0.24051724 0.25037283]\n"
     ]
    }
   ],
   "source": [
    "model = SentenceTransformer(\"all-mpnet-base-v2\")\n",
    "\n",
    "query_embedding = model.encode(input_data[0])\n",
    "passage_embeddings = model.encode([\n",
    "   x for x in problems_of_same_category.tolist()\n",
    "])\n",
    "\n",
    "similarity = model.similarity(query_embedding, passage_embeddings)\n",
    "# Your similarity tensor\n",
    "similarity_tensor = np.array(similarity)\n",
    "\n",
    "# Convert the tensor to a numpy array (if not already)\n",
    "similarity = similarity_tensor.flatten() \n",
    "top_indices = np.argsort(similarity)[-3:][::-1]\n",
    "similar_problem_with_solution={}\n",
    "\n",
    "for i in top_indices:\n",
    "    similar_problem_with_solution[problems_of_same_category.tolist()[i]]=soultion_for_similar_problems.tolist()[i]\n",
    "    \n",
    "\n",
    "\n",
    "\n",
    "# top_passages = [problems_of_same_category.tolist()[i] for i in top_indices]\n",
    "# top_scores = [similarity[i] for i in top_indices]\n",
    "\n",
    "print(\"Top 3 passages based on similarity scores:\")\n",
    "print(similar_problem_with_solution)\n",
    "print(similarity)"
   ]
  },
  {
   "cell_type": "markdown",
   "id": "d67262fc",
   "metadata": {},
   "source": [
    "# Glove"
   ]
  },
  {
   "cell_type": "code",
   "execution_count": 13,
   "id": "072c7b1f",
   "metadata": {},
   "outputs": [
    {
     "name": "stderr",
     "output_type": "stream",
     "text": [
      "[nltk_data] Downloading package stopwords to\n",
      "[nltk_data]     C:\\Users\\Asush\\AppData\\Roaming\\nltk_data...\n",
      "[nltk_data]   Package stopwords is already up-to-date!\n"
     ]
    }
   ],
   "source": [
    "import pandas as pd\n",
    "import numpy as np\n",
    "from nltk.corpus import stopwords\n",
    "import nltk\n",
    "nltk.download('stopwords')\n",
    "import re\n",
    "from sklearn.feature_extraction.text import TfidfVectorizer \n",
    "from sklearn.metrics.pairwise import cosine_similarity\n",
    "from sklearn.metrics.pairwise import euclidean_distances\n",
    "from tensorflow.keras.preprocessing.text import Tokenizer\n",
    "from tensorflow.keras.preprocessing.sequence import pad_sequences\n",
    "\n"
   ]
  },
  {
   "cell_type": "code",
   "execution_count": 14,
   "id": "c19ed031",
   "metadata": {},
   "outputs": [
    {
     "name": "stdout",
     "output_type": "stream",
     "text": [
      "['I received a past-due notice for my car loan and immediately contacted the lender, thinking I had simply missed a payment due to our numerous household expenses. During the call, the representative informed me of additional overdue payments dating back several months. I promptly paid the recent notice but explained that I needed to review my records for the older ones. One of these overdue payments was linked to a loan my spouse had taken out, which could not be discussed with me due to privacy regulations. I am now filing a separate complaint to address this issue.', ' i received a collection notice and called right away i figured i had over looked it as we have many medical bills while on the phone i was told there were additional much older than the notice i called about i paid the one notice and said i needed to look at the date for the other one one of those were for my adult son and could not be discussed with me a separate complaint is being filed ', ' on or about through ', ' national recovery', 'capital one bank has posted negative remarks of payment lateness on my credit report without providing me with any options to resolve this matter to the best of my interest ', 'ditech performed an inaccurate escrow analysis on my home and has increased my mortgage amount over the past two year s county refunded ditech that was the amount of the over payment and the company has still not d isbursed my funds they also are not processing my mortgage payments because my payment amount is not the same as their overestimated mortgage amount that they have just increased on my end ', ' getting called by after a google search determines this is a well known debt collection company ', 'company failed at refinancing causing great harm ', ' i made a payment with aes in early i asked that a scheduled payment be cancelled the customer service representative agreed the payment was not cancelled ', ' i have been advised by the office of the comptroller of the currency that they sent my complaint to you case bank of america i m checking to make sure you received it', 'i am a victim of identity theft company took me to court without notifying me as the sent everything to wrong address and received default judgements and are attempting to garnish my pay ', ' as sustituted trustee scheduled a private trustee s sale together with select portfolio servicing ', 'american education services refuses to allow me to automatically pay my bill online due to three failed ach drafts from where i switched bank accounts and did not have the funds there is no one they will allow me to talk to in the financial management department they refuse to send me to someone in that department or email them on my behalf i just want to be able to pay my bill online and automatically what other loan services refuses to take payments forever automatically becuase a client had a issue with ach payments once years ago ']\n"
     ]
    }
   ],
   "source": [
    "# Sample corpus\n",
    "# print(problems_of_same_category.tolist())\n",
    "documents =input_data\n",
    "documents.extend(problems_of_same_category.tolist())\n",
    "print(documents)\n",
    "documents_df=pd.DataFrame(documents,columns=['documents'])\n",
    "\n",
    "# removing special characters and stop words from the text\n",
    "stop_words_l=stopwords.words('english')\n",
    "documents_df['documents_cleaned']=documents_df.documents.apply(lambda x: \" \".join(re.sub(r'[^a-zA-Z]',' ',w).lower() for w in x.split() if re.sub(r'[^a-zA-Z]',' ',w).lower() not in stop_words_l) )\n",
    "\n",
    "tfidfvectoriser=TfidfVectorizer()\n",
    "tfidfvectoriser.fit(documents_df.documents_cleaned)\n",
    "tfidf_vectors=tfidfvectoriser.transform(documents_df.documents_cleaned)"
   ]
  },
  {
   "cell_type": "code",
   "execution_count": 15,
   "id": "f0f65b29",
   "metadata": {},
   "outputs": [
    {
     "name": "stdout",
     "output_type": "stream",
     "text": [
      "TF-IDF vector shape: (13, 187)\n",
      "Words count: 187\n",
      "Document: I received a past-due notice for my car loan and immediately contacted the lender, thinking I had simply missed a payment due to our numerous household expenses. During the call, the representative informed me of additional overdue payments dating back several months. I promptly paid the recent notice but explained that I needed to review my records for the older ones. One of these overdue payments was linked to a loan my spouse had taken out, which could not be discussed with me due to privacy regulations. I am now filing a separate complaint to address this issue.\n",
      "\n",
      "\n",
      "Similar Documents:\n",
      "\n",
      "\n",
      "Document:  i received a collection notice and called right away i figured i had over looked it as we have many medical bills while on the phone i was told there were additional much older than the notice i called about i paid the one notice and said i needed to look at the date for the other one one of those were for my adult son and could not be discussed with me a separate complaint is being filed \n",
      "Cosine Similarity : 0.9524053376250566\n",
      "\n",
      "\n",
      "Document: american education services refuses to allow me to automatically pay my bill online due to three failed ach drafts from where i switched bank accounts and did not have the funds there is no one they will allow me to talk to in the financial management department they refuse to send me to someone in that department or email them on my behalf i just want to be able to pay my bill online and automatically what other loan services refuses to take payments forever automatically becuase a client had a issue with ach payments once years ago \n",
      "Cosine Similarity : 0.9497614241595075\n",
      "\n",
      "\n",
      "Document: capital one bank has posted negative remarks of payment lateness on my credit report without providing me with any options to resolve this matter to the best of my interest \n",
      "Cosine Similarity : 0.9296269788922729\n",
      "\n",
      "\n",
      "Document: i am a victim of identity theft company took me to court without notifying me as the sent everything to wrong address and received default judgements and are attempting to garnish my pay \n",
      "Cosine Similarity : 0.9174259805419235\n",
      "\n",
      "\n",
      "Document:  i have been advised by the office of the comptroller of the currency that they sent my complaint to you case bank of america i m checking to make sure you received it\n",
      "Cosine Similarity : 0.9085521145149887\n",
      "\n",
      "\n",
      "Document: ditech performed an inaccurate escrow analysis on my home and has increased my mortgage amount over the past two year s county refunded ditech that was the amount of the over payment and the company has still not d isbursed my funds they also are not processing my mortgage payments because my payment amount is not the same as their overestimated mortgage amount that they have just increased on my end \n",
      "Cosine Similarity : 0.9021158337763556\n",
      "\n",
      "\n",
      "Document:  i made a payment with aes in early i asked that a scheduled payment be cancelled the customer service representative agreed the payment was not cancelled \n",
      "Cosine Similarity : 0.8962670257455544\n",
      "\n",
      "\n",
      "Document:  getting called by after a google search determines this is a well known debt collection company \n",
      "Cosine Similarity : 0.8927578753788795\n",
      "\n",
      "\n",
      "Document: company failed at refinancing causing great harm \n",
      "Cosine Similarity : 0.8412158696339836\n",
      "\n",
      "\n",
      "Document:  as sustituted trustee scheduled a private trustee s sale together with select portfolio servicing \n",
      "Cosine Similarity : 0.7498263198940337\n",
      "\n",
      "\n",
      "Document:  national recovery\n",
      "Cosine Similarity : 0.657072434178937\n",
      "\n",
      "\n",
      "Document:  on or about through \n",
      "Cosine Similarity : 0.0\n",
      "Document: I received a past-due notice for my car loan and immediately contacted the lender, thinking I had simply missed a payment due to our numerous household expenses. During the call, the representative informed me of additional overdue payments dating back several months. I promptly paid the recent notice but explained that I needed to review my records for the older ones. One of these overdue payments was linked to a loan my spouse had taken out, which could not be discussed with me due to privacy regulations. I am now filing a separate complaint to address this issue.\n",
      "\n",
      "\n",
      "Similar Documents:\n",
      "\n",
      "\n",
      "Document: american education services refuses to allow me to automatically pay my bill online due to three failed ach drafts from where i switched bank accounts and did not have the funds there is no one they will allow me to talk to in the financial management department they refuse to send me to someone in that department or email them on my behalf i just want to be able to pay my bill online and automatically what other loan services refuses to take payments forever automatically becuase a client had a issue with ach payments once years ago \n",
      "Euclidean Distance : 7.33782224377203\n",
      "\n",
      "\n",
      "Document:  i received a collection notice and called right away i figured i had over looked it as we have many medical bills while on the phone i was told there were additional much older than the notice i called about i paid the one notice and said i needed to look at the date for the other one one of those were for my adult son and could not be discussed with me a separate complaint is being filed \n",
      "Euclidean Distance : 7.405585012326825\n",
      "\n",
      "\n",
      "Document: capital one bank has posted negative remarks of payment lateness on my credit report without providing me with any options to resolve this matter to the best of my interest \n",
      "Euclidean Distance : 10.472416193934567\n",
      "\n",
      "\n",
      "Document: i am a victim of identity theft company took me to court without notifying me as the sent everything to wrong address and received default judgements and are attempting to garnish my pay \n",
      "Euclidean Distance : 11.727763021178498\n",
      "\n",
      "\n",
      "Document: ditech performed an inaccurate escrow analysis on my home and has increased my mortgage amount over the past two year s county refunded ditech that was the amount of the over payment and the company has still not d isbursed my funds they also are not processing my mortgage payments because my payment amount is not the same as their overestimated mortgage amount that they have just increased on my end \n",
      "Euclidean Distance : 11.93154901491702\n",
      "\n",
      "\n",
      "Document:  i have been advised by the office of the comptroller of the currency that they sent my complaint to you case bank of america i m checking to make sure you received it\n",
      "Euclidean Distance : 12.198688536145076\n",
      "\n",
      "\n",
      "Document:  getting called by after a google search determines this is a well known debt collection company \n",
      "Euclidean Distance : 13.472520240804295\n",
      "\n",
      "\n",
      "Document:  i made a payment with aes in early i asked that a scheduled payment be cancelled the customer service representative agreed the payment was not cancelled \n",
      "Euclidean Distance : 13.764664064329143\n",
      "\n",
      "\n",
      "Document: company failed at refinancing causing great harm \n",
      "Euclidean Distance : 16.137039992691438\n",
      "\n",
      "\n",
      "Document:  as sustituted trustee scheduled a private trustee s sale together with select portfolio servicing \n",
      "Euclidean Distance : 17.083213461422442\n",
      "\n",
      "\n",
      "Document:  national recovery\n",
      "Euclidean Distance : 18.79199191123314\n",
      "\n",
      "\n",
      "Document:  on or about through \n",
      "Euclidean Distance : 22.665157066759807\n"
     ]
    }
   ],
   "source": [
    "tokenizer = Tokenizer()\n",
    "tokenizer.fit_on_texts(documents_df.documents_cleaned)\n",
    "tokenized_documents = tokenizer.texts_to_sequences(documents_df.documents_cleaned)\n",
    "tokenized_padded_documents = pad_sequences(tokenized_documents, maxlen=64, padding='post')\n",
    "vocab_size = len(tokenizer.word_index) + 1\n",
    "\n",
    "# Reading GloVe word embeddings into a dictionary\n",
    "embeddings_index = {}\n",
    "with open('D:\\\\glove.6B\\\\glove.6B.100d.txt', encoding='utf-8') as file:\n",
    "    for line in file:\n",
    "        values = line.split()\n",
    "        word = values[0]\n",
    "        coefs = np.asarray(values[1:], dtype='float32')\n",
    "        embeddings_index[word] = coefs\n",
    "\n",
    "# Creating embedding matrix\n",
    "embedding_matrix = np.zeros((vocab_size, 100))\n",
    "for word, i in tokenizer.word_index.items():\n",
    "    embedding_vector = embeddings_index.get(word)\n",
    "    if embedding_vector is not None:\n",
    "        embedding_matrix[i] = embedding_vector\n",
    "\n",
    "# Ensure TF-IDF vectorizer has the same number of features as words\n",
    "# tfidf_vectors = tfidfvectoriser.transform(documents_df.documents_cleaned)\n",
    "words = tfidfvectoriser.get_feature_names_out()\n",
    "\n",
    "# Check dimensions for debug\n",
    "print(f\"TF-IDF vector shape: {tfidf_vectors.shape}\")\n",
    "print(f\"Words count: {len(words)}\")\n",
    "\n",
    "# Calculating average of word vectors of a document weighted by tf-idf\n",
    "document_embeddings = np.zeros((documents_df.shape[0], 100))\n",
    "\n",
    "for i in range(documents_df.shape[0]):\n",
    "    for j in range(len(words)):\n",
    "        word = words[j]\n",
    "        if word in tokenizer.word_index:\n",
    "            word_index = tokenizer.word_index[word]\n",
    "            embedding_vector = embedding_matrix[word_index]\n",
    "            tfidf_value = tfidf_vectors[i, j]\n",
    "            document_embeddings[i] += embedding_vector * tfidf_value\n",
    "\n",
    "# Calculating pairwise similarities and differences\n",
    "pairwise_similarities = cosine_similarity(document_embeddings)\n",
    "pairwise_differences = euclidean_distances(document_embeddings)\n",
    "\n",
    "def most_similar(doc_id,similarity_matrix,matrix):\n",
    "    print (f'Document: {documents_df.iloc[doc_id][\"documents\"]}')\n",
    "    print ('\\n')\n",
    "    print ('Similar Documents:')\n",
    "    if matrix=='Cosine Similarity':\n",
    "        similar_ix=np.argsort(similarity_matrix[doc_id])[::-1]\n",
    "    elif matrix=='Euclidean Distance':\n",
    "        similar_ix=np.argsort(similarity_matrix[doc_id])\n",
    "    for ix in similar_ix:\n",
    "        if ix==doc_id:\n",
    "            continue\n",
    "        print('\\n')\n",
    "        print (f'Document: {documents_df.iloc[ix][\"documents\"]}')\n",
    "        print (f'{matrix} : {similarity_matrix[doc_id][ix]}')\n",
    "\n",
    "most_similar(0,pairwise_similarities,'Cosine Similarity')\n",
    "most_similar(0,pairwise_differences,'Euclidean Distance')  "
   ]
  },
  {
   "cell_type": "code",
   "execution_count": null,
   "id": "dcc0c6f2",
   "metadata": {},
   "outputs": [],
   "source": []
  }
 ],
 "metadata": {
  "kernelspec": {
   "display_name": "Python 3 (ipykernel)",
   "language": "python",
   "name": "python3"
  },
  "language_info": {
   "codemirror_mode": {
    "name": "ipython",
    "version": 3
   },
   "file_extension": ".py",
   "mimetype": "text/x-python",
   "name": "python",
   "nbconvert_exporter": "python",
   "pygments_lexer": "ipython3",
   "version": "3.12.0"
  }
 },
 "nbformat": 4,
 "nbformat_minor": 5
}
